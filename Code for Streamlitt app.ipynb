{
 "cells": [
  {
   "cell_type": "code",
   "execution_count": null,
   "id": "3d10cbbf",
   "metadata": {},
   "outputs": [],
   "source": [
    "pip install streamlit"
   ]
  },
  {
   "cell_type": "code",
   "execution_count": 1,
   "id": "8e47c9db",
   "metadata": {},
   "outputs": [
    {
     "name": "stdout",
     "output_type": "stream",
     "text": [
      "Streamlit app written to 'app.py'\n"
     ]
    }
   ],
   "source": [
    "# Write the Streamlit app code to a file\n",
    "app_code = \"\"\"\n",
    "import streamlit as st\n",
    "import pandas as pd\n",
    "\n",
    "# Load the recommendations DataFrame\n",
    "recommendations_df = pd.read_csv(\"all_recommendations.csv\")\n",
    "\n",
    "# Streamlit app logic\n",
    "st.title(\"Music2Movie Recommendation System\")\n",
    "\n",
    "# Song selection dropdown\n",
    "selected_song = st.selectbox(\"Select a Song:\", recommendations_df['song_track_name'].unique())\n",
    "\n",
    "# Filter recommendations for the selected song\n",
    "filtered_df = recommendations_df[recommendations_df['song_track_name'] == selected_song]\n",
    "\n",
    "# Display recommendations for the selected song\n",
    "st.write(f\"Top recommendations for the song '{selected_song}':\")\n",
    "st.dataframe(filtered_df[['title', 'similarity_score']])  # Display movie title and similarity score\n",
    "\n",
    "# Optional: Include additional song and movie details\n",
    "if st.checkbox(\"Show detailed recommendations\"):\n",
    "    st.write(\"Detailed recommendations:\")\n",
    "    st.dataframe(filtered_df)\n",
    "\"\"\"\n",
    "\n",
    "# Save the Streamlit app code to a file\n",
    "with open(\"app.py\", \"w\") as f:\n",
    "    f.write(app_code)\n",
    "\n",
    "print(\"Streamlit app written to 'app.py'\")"
   ]
  },
  {
   "cell_type": "code",
   "execution_count": 2,
   "id": "8e7d32e1",
   "metadata": {},
   "outputs": [
    {
     "name": "stdout",
     "output_type": "stream",
     "text": [
      "\u001b[0m\n",
      "\u001b[34m\u001b[1m  You can now view your Streamlit app in your browser.\u001b[0m\n",
      "\u001b[0m\n",
      "\u001b[34m  Local URL: \u001b[0m\u001b[1mhttp://localhost:8501\u001b[0m\n",
      "\u001b[34m  Network URL: \u001b[0m\u001b[1mhttp://192.168.1.4:8501\u001b[0m\n",
      "\u001b[0m\n",
      "^C\n",
      "\u001b[34m  Stopping...\u001b[0m\n"
     ]
    }
   ],
   "source": [
    "!streamlit run app.py"
   ]
  },
  {
   "cell_type": "code",
   "execution_count": null,
   "id": "1edd5ae9",
   "metadata": {},
   "outputs": [],
   "source": []
  }
 ],
 "metadata": {
  "kernelspec": {
   "display_name": "Python 3 (ipykernel)",
   "language": "python",
   "name": "python3"
  },
  "language_info": {
   "codemirror_mode": {
    "name": "ipython",
    "version": 3
   },
   "file_extension": ".py",
   "mimetype": "text/x-python",
   "name": "python",
   "nbconvert_exporter": "python",
   "pygments_lexer": "ipython3",
   "version": "3.11.3"
  }
 },
 "nbformat": 4,
 "nbformat_minor": 5
}
